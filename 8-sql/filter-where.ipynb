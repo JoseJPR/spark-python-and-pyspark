{
 "cells": [
  {
   "cell_type": "code",
   "execution_count": 2,
   "metadata": {},
   "outputs": [],
   "source": [
    "from pyspark.sql import SparkSession"
   ]
  },
  {
   "cell_type": "code",
   "execution_count": 3,
   "metadata": {},
   "outputs": [
    {
     "name": "stderr",
     "output_type": "stream",
     "text": [
      "Setting default log level to \"WARN\".\n",
      "To adjust logging level use sc.setLogLevel(newLevel). For SparkR, use setLogLevel(newLevel).\n",
      "23/11/28 19:55:35 WARN NativeCodeLoader: Unable to load native-hadoop library for your platform... using builtin-java classes where applicable\n"
     ]
    }
   ],
   "source": [
    "spark  = SparkSession.builder.appName('TestFilterWhere').getOrCreate()"
   ]
  },
  {
   "cell_type": "code",
   "execution_count": 4,
   "metadata": {},
   "outputs": [],
   "source": [
    "df = spark.read.csv('../assets/AAPL.csv', inferSchema=True, header=True)"
   ]
  },
  {
   "cell_type": "code",
   "execution_count": 5,
   "metadata": {},
   "outputs": [
    {
     "name": "stdout",
     "output_type": "stream",
     "text": [
      "+----------+---------+---------+---------+---------+---------+---------+\n",
      "|      Date|     Open|     High|      Low|    Close|Adj Close|   Volume|\n",
      "+----------+---------+---------+---------+---------+---------+---------+\n",
      "|2010-01-04|    30.49|30.642857|    30.34|30.572857|26.466835|123432400|\n",
      "|2010-01-05|30.657143|30.798571|30.464285|30.625713|26.512596|150476200|\n",
      "|2010-01-06|30.625713|30.747143|30.107143|30.138571|26.090879|138040000|\n",
      "|2010-01-07|    30.25|30.285715|29.864286|30.082857|26.042646|119282800|\n",
      "|2010-01-08|30.042856|30.285715|29.865715|30.282858|26.215786|111902700|\n",
      "|2010-01-11|     30.4|30.428572|29.778572|30.015715|25.984528|115557400|\n",
      "|2010-01-12|29.884285|29.967142|29.488571|29.674286|25.688946|148614900|\n",
      "|2010-01-13|29.695715|30.132856|29.157143|30.092857|26.051304|151473000|\n",
      "|2010-01-14|30.015715|30.065714|29.860001|29.918571|25.900436|108223500|\n",
      "|2010-01-15|30.132856|30.228571|    29.41|29.418571|25.467583|148516900|\n",
      "|2010-01-19|29.761429|30.741428|29.605715|30.719999|26.594227|182501900|\n",
      "|2010-01-20|30.701429|30.792856|29.928572|30.247143| 26.18487|153038200|\n",
      "|2010-01-21|30.297142|30.472857|29.601429|29.724285|25.732233|152038600|\n",
      "|2010-01-22|29.540001|29.642857|28.165714|    28.25|24.455948|220441900|\n",
      "|2010-01-25|    28.93|29.242857|28.598572|    29.01|25.113882|266424900|\n",
      "|2010-01-26|29.421429|30.530001|28.940001|    29.42|25.468813|466777500|\n",
      "|2010-01-27|29.549999|30.082857|28.504286|29.697144|25.708735|430642100|\n",
      "|2010-01-28|29.275715|29.357143|28.385714|28.469999|24.646406|293375600|\n",
      "|2010-01-29|28.725714|28.885714|27.178572|27.437143| 23.75227|311488100|\n",
      "|2010-02-01|27.481428|     28.0|27.328571|27.818571|24.082464|187469100|\n",
      "+----------+---------+---------+---------+---------+---------+---------+\n",
      "only showing top 20 rows\n",
      "\n"
     ]
    }
   ],
   "source": [
    "df.show()"
   ]
  },
  {
   "cell_type": "code",
   "execution_count": 6,
   "metadata": {},
   "outputs": [
    {
     "name": "stdout",
     "output_type": "stream",
     "text": [
      "root\n",
      " |-- Date: date (nullable = true)\n",
      " |-- Open: double (nullable = true)\n",
      " |-- High: double (nullable = true)\n",
      " |-- Low: double (nullable = true)\n",
      " |-- Close: double (nullable = true)\n",
      " |-- Adj Close: double (nullable = true)\n",
      " |-- Volume: integer (nullable = true)\n",
      "\n"
     ]
    }
   ],
   "source": [
    "df.printSchema()"
   ]
  },
  {
   "cell_type": "code",
   "execution_count": 7,
   "metadata": {},
   "outputs": [
    {
     "data": {
      "text/plain": [
       "[Row(Date=datetime.date(2010, 1, 4), Open=30.49, High=30.642857, Low=30.34, Close=30.572857, Adj Close=26.466835, Volume=123432400),\n",
       " Row(Date=datetime.date(2010, 1, 5), Open=30.657143, High=30.798571, Low=30.464285, Close=30.625713, Adj Close=26.512596, Volume=150476200),\n",
       " Row(Date=datetime.date(2010, 1, 6), Open=30.625713, High=30.747143, Low=30.107143, Close=30.138571, Adj Close=26.090879, Volume=138040000)]"
      ]
     },
     "execution_count": 7,
     "metadata": {},
     "output_type": "execute_result"
    }
   ],
   "source": [
    "df.head(3)"
   ]
  },
  {
   "cell_type": "markdown",
   "metadata": {},
   "source": [
    "# filter examples"
   ]
  },
  {
   "cell_type": "code",
   "execution_count": 8,
   "metadata": {},
   "outputs": [
    {
     "name": "stdout",
     "output_type": "stream",
     "text": [
      "+---------+---------+\n",
      "|     Open|    Close|\n",
      "+---------+---------+\n",
      "|29.884285|29.674286|\n",
      "|30.015715|29.918571|\n",
      "|30.132856|29.418571|\n",
      "|30.297142|29.724285|\n",
      "|29.540001|    28.25|\n",
      "|    28.93|    29.01|\n",
      "|29.421429|    29.42|\n",
      "|29.549999|29.697144|\n",
      "|29.275715|28.469999|\n",
      "|28.725714|27.437143|\n",
      "|27.481428|27.818571|\n",
      "|27.987143|    27.98|\n",
      "|27.881428|28.461428|\n",
      "|28.104286|27.435715|\n",
      "|27.518572|27.922857|\n",
      "|27.955715|27.731428|\n",
      "|28.059999|28.027143|\n",
      "|27.984285|27.874287|\n",
      "|    27.84|28.381428|\n",
      "|28.301428|28.625713|\n",
      "+---------+---------+\n",
      "only showing top 20 rows\n",
      "\n"
     ]
    }
   ],
   "source": [
    "df.filter(df['Close'] < 30).select(['Open', 'Close']).show()"
   ]
  },
  {
   "cell_type": "code",
   "execution_count": 9,
   "metadata": {},
   "outputs": [
    {
     "name": "stdout",
     "output_type": "stream",
     "text": [
      "+---------+---------+\n",
      "|     Open|    Close|\n",
      "+---------+---------+\n",
      "|29.884285|29.674286|\n",
      "|29.695715|30.092857|\n",
      "|30.015715|29.918571|\n",
      "|30.132856|29.418571|\n",
      "|29.761429|30.719999|\n",
      "|30.297142|29.724285|\n",
      "|29.540001|    28.25|\n",
      "|    28.93|    29.01|\n",
      "|29.421429|    29.42|\n",
      "|29.549999|29.697144|\n",
      "|29.275715|28.469999|\n",
      "|28.725714|27.437143|\n",
      "|27.481428|27.818571|\n",
      "|27.987143|    27.98|\n",
      "|27.881428|28.461428|\n",
      "|28.104286|27.435715|\n",
      "|27.518572|27.922857|\n",
      "|27.955715|27.731428|\n",
      "|28.059999|28.027143|\n",
      "|27.984285|27.874287|\n",
      "+---------+---------+\n",
      "only showing top 20 rows\n",
      "\n"
     ]
    }
   ],
   "source": [
    "df.filter((df['Close'] < 30) | (df['Open'] < 30)).select(['Open', 'Close']).show()"
   ]
  },
  {
   "cell_type": "markdown",
   "metadata": {},
   "source": [
    "# where examples"
   ]
  },
  {
   "cell_type": "code",
   "execution_count": 10,
   "metadata": {},
   "outputs": [
    {
     "name": "stdout",
     "output_type": "stream",
     "text": [
      "+---------+---------+\n",
      "|     Open|    Close|\n",
      "+---------+---------+\n",
      "|29.884285|29.674286|\n",
      "|30.015715|29.918571|\n",
      "|30.132856|29.418571|\n",
      "|30.297142|29.724285|\n",
      "|29.540001|    28.25|\n",
      "|    28.93|    29.01|\n",
      "|29.421429|    29.42|\n",
      "|29.549999|29.697144|\n",
      "|29.275715|28.469999|\n",
      "|28.725714|27.437143|\n",
      "|27.481428|27.818571|\n",
      "|27.987143|    27.98|\n",
      "|27.881428|28.461428|\n",
      "|28.104286|27.435715|\n",
      "|27.518572|27.922857|\n",
      "|27.955715|27.731428|\n",
      "|28.059999|28.027143|\n",
      "|27.984285|27.874287|\n",
      "|    27.84|28.381428|\n",
      "|28.301428|28.625713|\n",
      "+---------+---------+\n",
      "only showing top 20 rows\n",
      "\n"
     ]
    }
   ],
   "source": [
    "df.where(df['Close'] < 30).select(['Open', 'Close']).show()"
   ]
  },
  {
   "cell_type": "code",
   "execution_count": 11,
   "metadata": {},
   "outputs": [
    {
     "name": "stdout",
     "output_type": "stream",
     "text": [
      "+---------+---------+\n",
      "|     Open|    Close|\n",
      "+---------+---------+\n",
      "|29.884285|29.674286|\n",
      "|29.695715|30.092857|\n",
      "|30.015715|29.918571|\n",
      "|30.132856|29.418571|\n",
      "|29.761429|30.719999|\n",
      "|30.297142|29.724285|\n",
      "|29.540001|    28.25|\n",
      "|    28.93|    29.01|\n",
      "|29.421429|    29.42|\n",
      "|29.549999|29.697144|\n",
      "|29.275715|28.469999|\n",
      "|28.725714|27.437143|\n",
      "|27.481428|27.818571|\n",
      "|27.987143|    27.98|\n",
      "|27.881428|28.461428|\n",
      "|28.104286|27.435715|\n",
      "|27.518572|27.922857|\n",
      "|27.955715|27.731428|\n",
      "|28.059999|28.027143|\n",
      "|27.984285|27.874287|\n",
      "+---------+---------+\n",
      "only showing top 20 rows\n",
      "\n"
     ]
    }
   ],
   "source": [
    "df.where((df['Close'] < 30) | (df['Open'] < 30)).select(['Open', 'Close']).show()\n",
    "# Close or Open less than 30"
   ]
  },
  {
   "cell_type": "code",
   "execution_count": 12,
   "metadata": {},
   "outputs": [
    {
     "name": "stdout",
     "output_type": "stream",
     "text": [
      "+---------+---------+\n",
      "|     Open|    Close|\n",
      "+---------+---------+\n",
      "|29.884285|29.674286|\n",
      "|29.540001|    28.25|\n",
      "|    28.93|    29.01|\n",
      "|29.421429|    29.42|\n",
      "|29.549999|29.697144|\n",
      "|29.275715|28.469999|\n",
      "|28.725714|27.437143|\n",
      "|27.481428|27.818571|\n",
      "|27.987143|    27.98|\n",
      "|27.881428|28.461428|\n",
      "|28.104286|27.435715|\n",
      "|27.518572|27.922857|\n",
      "|27.955715|27.731428|\n",
      "|28.059999|28.027143|\n",
      "|27.984285|27.874287|\n",
      "|    27.84|28.381428|\n",
      "|28.301428|28.625713|\n",
      "|28.848572|29.057142|\n",
      "|    29.17|28.935715|\n",
      "|28.804285|    28.99|\n",
      "+---------+---------+\n",
      "only showing top 20 rows\n",
      "\n"
     ]
    }
   ],
   "source": [
    "df.where((df['Close'] < 30) & (df['Open'] < 30)).select(['Open', 'Close']).show()\n",
    "# Close and Open less than 30"
   ]
  },
  {
   "cell_type": "code",
   "execution_count": 13,
   "metadata": {},
   "outputs": [
    {
     "name": "stdout",
     "output_type": "stream",
     "text": [
      "+---------+---------+\n",
      "|     Open|    Close|\n",
      "+---------+---------+\n",
      "|30.015715|29.918571|\n",
      "|30.132856|29.418571|\n",
      "|30.297142|29.724285|\n",
      "+---------+---------+\n",
      "\n"
     ]
    }
   ],
   "source": [
    "df.where((df['Close'] < 30) & ~(df['Open'] < 30)).select(['Open', 'Close']).show()\n",
    "# Close less than 30 and Open not less than 30"
   ]
  },
  {
   "cell_type": "code",
   "execution_count": 14,
   "metadata": {},
   "outputs": [
    {
     "name": "stdout",
     "output_type": "stream",
     "text": [
      "+----------+-----+---------+-----+---------+---------+---------+\n",
      "|      Date| Open|     High|  Low|    Close|Adj Close|   Volume|\n",
      "+----------+-----+---------+-----+---------+---------+---------+\n",
      "|2010-01-04|30.49|30.642857|30.34|30.572857|26.466835|123432400|\n",
      "+----------+-----+---------+-----+---------+---------+---------+\n",
      "\n"
     ]
    }
   ],
   "source": [
    "df.where((df['Low'] == 30.34)).show()"
   ]
  },
  {
   "cell_type": "code",
   "execution_count": 15,
   "metadata": {},
   "outputs": [],
   "source": [
    "result = df.where((df['Low'] == 30.34)).collect()"
   ]
  },
  {
   "cell_type": "code",
   "execution_count": 16,
   "metadata": {},
   "outputs": [
    {
     "data": {
      "text/plain": [
       "[Row(Date=datetime.date(2010, 1, 4), Open=30.49, High=30.642857, Low=30.34, Close=30.572857, Adj Close=26.466835, Volume=123432400)]"
      ]
     },
     "execution_count": 16,
     "metadata": {},
     "output_type": "execute_result"
    }
   ],
   "source": [
    "result"
   ]
  },
  {
   "cell_type": "code",
   "execution_count": 17,
   "metadata": {},
   "outputs": [],
   "source": [
    "file = result[0]"
   ]
  },
  {
   "cell_type": "code",
   "execution_count": 18,
   "metadata": {},
   "outputs": [
    {
     "data": {
      "text/plain": [
       "Row(Date=datetime.date(2010, 1, 4), Open=30.49, High=30.642857, Low=30.34, Close=30.572857, Adj Close=26.466835, Volume=123432400)"
      ]
     },
     "execution_count": 18,
     "metadata": {},
     "output_type": "execute_result"
    }
   ],
   "source": [
    "file"
   ]
  },
  {
   "cell_type": "code",
   "execution_count": 19,
   "metadata": {},
   "outputs": [
    {
     "data": {
      "text/plain": [
       "{'Date': datetime.date(2010, 1, 4),\n",
       " 'Open': 30.49,\n",
       " 'High': 30.642857,\n",
       " 'Low': 30.34,\n",
       " 'Close': 30.572857,\n",
       " 'Adj Close': 26.466835,\n",
       " 'Volume': 123432400}"
      ]
     },
     "execution_count": 19,
     "metadata": {},
     "output_type": "execute_result"
    }
   ],
   "source": [
    "file.asDict()"
   ]
  }
 ],
 "metadata": {
  "kernelspec": {
   "display_name": "Python 3 (ipykernel)",
   "language": "python",
   "name": "python3"
  },
  "language_info": {
   "codemirror_mode": {
    "name": "ipython",
    "version": 3
   },
   "file_extension": ".py",
   "mimetype": "text/x-python",
   "name": "python",
   "nbconvert_exporter": "python",
   "pygments_lexer": "ipython3",
   "version": "3.11.5"
  }
 },
 "nbformat": 4,
 "nbformat_minor": 2
}
