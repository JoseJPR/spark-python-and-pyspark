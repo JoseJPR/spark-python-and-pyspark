{
 "cells": [
  {
   "cell_type": "code",
   "execution_count": 12,
   "metadata": {},
   "outputs": [],
   "source": [
    "from pyspark.sql import SparkSession"
   ]
  },
  {
   "cell_type": "code",
   "execution_count": 13,
   "metadata": {},
   "outputs": [],
   "source": [
    "spark = SparkSession.builder.appName('ExampleNull').getOrCreate()"
   ]
  },
  {
   "cell_type": "code",
   "execution_count": 14,
   "metadata": {},
   "outputs": [],
   "source": [
    "df = spark.read.csv('../assets/Null.csv', inferSchema=True, header=True)"
   ]
  },
  {
   "cell_type": "code",
   "execution_count": 15,
   "metadata": {},
   "outputs": [
    {
     "name": "stdout",
     "output_type": "stream",
     "text": [
      "root\n",
      " |-- Id: string (nullable = true)\n",
      " |-- Name: string (nullable = true)\n",
      " |-- Sales: integer (nullable = true)\n",
      " |-- Clients: integer (nullable = true)\n",
      "\n"
     ]
    }
   ],
   "source": [
    "df.printSchema()"
   ]
  },
  {
   "cell_type": "code",
   "execution_count": 16,
   "metadata": {},
   "outputs": [
    {
     "name": "stdout",
     "output_type": "stream",
     "text": [
      "+----+-----+-----+-------+\n",
      "|  Id| Name|Sales|Clients|\n",
      "+----+-----+-----+-------+\n",
      "|emp1| John| NULL|      3|\n",
      "|emp2| NULL| NULL|   NULL|\n",
      "|emp3| NULL|  345|   NULL|\n",
      "|emp4|Cindy|  456|      4|\n",
      "+----+-----+-----+-------+\n",
      "\n"
     ]
    }
   ],
   "source": [
    "df.show()"
   ]
  },
  {
   "cell_type": "markdown",
   "metadata": {},
   "source": [
    "# na drop example"
   ]
  },
  {
   "cell_type": "code",
   "execution_count": 17,
   "metadata": {},
   "outputs": [
    {
     "name": "stdout",
     "output_type": "stream",
     "text": [
      "+----+-----+-----+-------+\n",
      "|  Id| Name|Sales|Clients|\n",
      "+----+-----+-----+-------+\n",
      "|emp4|Cindy|  456|      4|\n",
      "+----+-----+-----+-------+\n",
      "\n"
     ]
    }
   ],
   "source": [
    "df.na.drop().show()"
   ]
  },
  {
   "cell_type": "code",
   "execution_count": 18,
   "metadata": {},
   "outputs": [
    {
     "name": "stdout",
     "output_type": "stream",
     "text": [
      "+----+-----+-----+-------+\n",
      "|  Id| Name|Sales|Clients|\n",
      "+----+-----+-----+-------+\n",
      "|emp1| John| NULL|      3|\n",
      "|emp3| NULL|  345|   NULL|\n",
      "|emp4|Cindy|  456|      4|\n",
      "+----+-----+-----+-------+\n",
      "\n"
     ]
    }
   ],
   "source": [
    "df.na.drop(thresh=2).show()"
   ]
  },
  {
   "cell_type": "code",
   "execution_count": 19,
   "metadata": {},
   "outputs": [
    {
     "name": "stdout",
     "output_type": "stream",
     "text": [
      "+----+-----+-----+-------+\n",
      "|  Id| Name|Sales|Clients|\n",
      "+----+-----+-----+-------+\n",
      "|emp1| John| NULL|      3|\n",
      "|emp4|Cindy|  456|      4|\n",
      "+----+-----+-----+-------+\n",
      "\n"
     ]
    }
   ],
   "source": [
    "df.na.drop(thresh=3).show()"
   ]
  },
  {
   "cell_type": "code",
   "execution_count": 20,
   "metadata": {},
   "outputs": [
    {
     "name": "stdout",
     "output_type": "stream",
     "text": [
      "+----+-----+-----+-------+\n",
      "|  Id| Name|Sales|Clients|\n",
      "+----+-----+-----+-------+\n",
      "|emp4|Cindy|  456|      4|\n",
      "+----+-----+-----+-------+\n",
      "\n"
     ]
    }
   ],
   "source": [
    "df.na.drop(how='any').show()"
   ]
  },
  {
   "cell_type": "code",
   "execution_count": 21,
   "metadata": {},
   "outputs": [
    {
     "name": "stdout",
     "output_type": "stream",
     "text": [
      "+----+-----+-----+-------+\n",
      "|  Id| Name|Sales|Clients|\n",
      "+----+-----+-----+-------+\n",
      "|emp1| John| NULL|      3|\n",
      "|emp2| NULL| NULL|   NULL|\n",
      "|emp3| NULL|  345|   NULL|\n",
      "|emp4|Cindy|  456|      4|\n",
      "+----+-----+-----+-------+\n",
      "\n"
     ]
    }
   ],
   "source": [
    "df.na.drop(how='all').show()"
   ]
  },
  {
   "cell_type": "code",
   "execution_count": 22,
   "metadata": {},
   "outputs": [
    {
     "name": "stdout",
     "output_type": "stream",
     "text": [
      "+----+-----+-----+-------+\n",
      "|  Id| Name|Sales|Clients|\n",
      "+----+-----+-----+-------+\n",
      "|emp1| John| NULL|      3|\n",
      "|emp4|Cindy|  456|      4|\n",
      "+----+-----+-----+-------+\n",
      "\n"
     ]
    }
   ],
   "source": [
    "df.na.drop(subset='Name').show()"
   ]
  },
  {
   "cell_type": "code",
   "execution_count": 23,
   "metadata": {},
   "outputs": [
    {
     "name": "stdout",
     "output_type": "stream",
     "text": [
      "+----+-----+-----+-------+\n",
      "|  Id| Name|Sales|Clients|\n",
      "+----+-----+-----+-------+\n",
      "|emp1| John|    0|      3|\n",
      "|emp2| NULL|    0|      0|\n",
      "|emp3| NULL|  345|      0|\n",
      "|emp4|Cindy|  456|      4|\n",
      "+----+-----+-----+-------+\n",
      "\n"
     ]
    }
   ],
   "source": [
    "df.na.fill(0).show()"
   ]
  },
  {
   "cell_type": "code",
   "execution_count": null,
   "metadata": {},
   "outputs": [],
   "source": [
    "df.na.fill(0, subset='Sales').show()"
   ]
  }
 ],
 "metadata": {
  "kernelspec": {
   "display_name": "Python 3 (ipykernel)",
   "language": "python",
   "name": "python3"
  },
  "language_info": {
   "codemirror_mode": {
    "name": "ipython",
    "version": 3
   },
   "file_extension": ".py",
   "mimetype": "text/x-python",
   "name": "python",
   "nbconvert_exporter": "python",
   "pygments_lexer": "ipython3",
   "version": "3.11.5"
  }
 },
 "nbformat": 4,
 "nbformat_minor": 2
}
